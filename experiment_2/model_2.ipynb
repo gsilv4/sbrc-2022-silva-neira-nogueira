{
  "cells": [
    {
      "cell_type": "code",
      "execution_count": null,
      "metadata": {
        "id": "_k5fZ6Y1hyE9"
      },
      "outputs": [],
      "source": [
        "import csv\n",
        "import nest_asyncio\n",
        "\n",
        "nest_asyncio.apply()"
      ]
    },
    {
      "cell_type": "code",
      "execution_count": null,
      "metadata": {
        "id": "g4YXvZikh_Rj"
      },
      "outputs": [],
      "source": [
        "import os\n",
        "import pandas as pd\n",
        "import numpy as np\n",
        "from sklearn.preprocessing import MinMaxScaler\n",
        "#from sklearn.externals import joblib\n",
        "import joblib\n",
        "import seaborn as sns\n",
        "sns.set(color_codes=True)\n",
        "import matplotlib.pyplot as plt\n",
        "%matplotlib inline\n",
        "\n",
        "from pytz import timezone; \n",
        "\n",
        "from numpy.random import seed\n",
        "import tensorflow as tf\n",
        "\n",
        "from keras.layers import Input, Dropout, Dense, LSTM, TimeDistributed, RepeatVector\n",
        "from keras.models import Model\n",
        "from keras import regularizers"
      ]
    },
    {
      "cell_type": "code",
      "execution_count": null,
      "metadata": {
        "id": "GWgG3TisiFUN"
      },
      "outputs": [],
      "source": [
        "seed(10)\n",
        "tf.random.set_seed(10)"
      ]
    },
    {
      "cell_type": "code",
      "execution_count": null,
      "metadata": {
        "id": "RbTlfWNdzyKC"
      },
      "outputs": [],
      "source": [
        "dataset = 'full_capture20110818_preprocessed_rolling_10_per_cent_frame_delta_time_pre_attack_mean.csv'"
      ]
    },
    {
      "cell_type": "code",
      "execution_count": null,
      "metadata": {
        "colab": {
          "base_uri": "https://localhost:8080/",
          "height": 455
        },
        "id": "Ktjf5et5qUri",
        "outputId": "74203afd-8b31-4bc3-c88e-38229b917164"
      },
      "outputs": [
        {
          "data": {
            "text/html": [
              "\n",
              "  <div id=\"df-bc8858d9-0020-41a8-a8ca-db396f632b6f\">\n",
              "    <div class=\"colab-df-container\">\n",
              "      <div>\n",
              "<style scoped>\n",
              "    .dataframe tbody tr th:only-of-type {\n",
              "        vertical-align: middle;\n",
              "    }\n",
              "\n",
              "    .dataframe tbody tr th {\n",
              "        vertical-align: top;\n",
              "    }\n",
              "\n",
              "    .dataframe thead th {\n",
              "        text-align: right;\n",
              "    }\n",
              "</style>\n",
              "<table border=\"1\" class=\"dataframe\">\n",
              "  <thead>\n",
              "    <tr style=\"text-align: right;\">\n",
              "      <th></th>\n",
              "      <th>frame_len_skew</th>\n",
              "      <th>frame_len_kurt</th>\n",
              "      <th>frame_time_delta_skew</th>\n",
              "      <th>frame_time_delta_kurt</th>\n",
              "      <th>tcp_window_size_skew</th>\n",
              "      <th>tcp_window_size_kurt</th>\n",
              "      <th>Class</th>\n",
              "    </tr>\n",
              "    <tr>\n",
              "      <th>frame.time</th>\n",
              "      <th></th>\n",
              "      <th></th>\n",
              "      <th></th>\n",
              "      <th></th>\n",
              "      <th></th>\n",
              "      <th></th>\n",
              "      <th></th>\n",
              "    </tr>\n",
              "  </thead>\n",
              "  <tbody>\n",
              "    <tr>\n",
              "      <th>2011-08-18 10:19:13+02:00</th>\n",
              "      <td>NaN</td>\n",
              "      <td>NaN</td>\n",
              "      <td>NaN</td>\n",
              "      <td>NaN</td>\n",
              "      <td>NaN</td>\n",
              "      <td>NaN</td>\n",
              "      <td>0.0</td>\n",
              "    </tr>\n",
              "    <tr>\n",
              "      <th>2011-08-18 10:19:14+02:00</th>\n",
              "      <td>NaN</td>\n",
              "      <td>NaN</td>\n",
              "      <td>NaN</td>\n",
              "      <td>NaN</td>\n",
              "      <td>NaN</td>\n",
              "      <td>NaN</td>\n",
              "      <td>0.0</td>\n",
              "    </tr>\n",
              "    <tr>\n",
              "      <th>2011-08-18 10:19:15+02:00</th>\n",
              "      <td>0.819354</td>\n",
              "      <td>NaN</td>\n",
              "      <td>-1.465798</td>\n",
              "      <td>NaN</td>\n",
              "      <td>-0.372869</td>\n",
              "      <td>NaN</td>\n",
              "      <td>0.0</td>\n",
              "    </tr>\n",
              "    <tr>\n",
              "      <th>2011-08-18 10:19:16+02:00</th>\n",
              "      <td>0.947504</td>\n",
              "      <td>0.271008</td>\n",
              "      <td>-1.754291</td>\n",
              "      <td>3.042090</td>\n",
              "      <td>1.494747</td>\n",
              "      <td>2.486826</td>\n",
              "      <td>0.0</td>\n",
              "    </tr>\n",
              "    <tr>\n",
              "      <th>2011-08-18 10:19:17+02:00</th>\n",
              "      <td>1.256111</td>\n",
              "      <td>0.932081</td>\n",
              "      <td>-0.590716</td>\n",
              "      <td>-2.786635</td>\n",
              "      <td>0.353852</td>\n",
              "      <td>-2.798971</td>\n",
              "      <td>0.0</td>\n",
              "    </tr>\n",
              "    <tr>\n",
              "      <th>...</th>\n",
              "      <td>...</td>\n",
              "      <td>...</td>\n",
              "      <td>...</td>\n",
              "      <td>...</td>\n",
              "      <td>...</td>\n",
              "      <td>...</td>\n",
              "      <td>...</td>\n",
              "    </tr>\n",
              "    <tr>\n",
              "      <th>2011-08-18 11:52:49+02:00</th>\n",
              "      <td>-2.662761</td>\n",
              "      <td>14.734984</td>\n",
              "      <td>0.205026</td>\n",
              "      <td>1.324001</td>\n",
              "      <td>0.019434</td>\n",
              "      <td>-0.709804</td>\n",
              "      <td>1.0</td>\n",
              "    </tr>\n",
              "    <tr>\n",
              "      <th>2011-08-18 11:52:50+02:00</th>\n",
              "      <td>-2.651266</td>\n",
              "      <td>14.655029</td>\n",
              "      <td>0.205390</td>\n",
              "      <td>1.291960</td>\n",
              "      <td>0.040859</td>\n",
              "      <td>-0.679819</td>\n",
              "      <td>1.0</td>\n",
              "    </tr>\n",
              "    <tr>\n",
              "      <th>2011-08-18 11:52:51+02:00</th>\n",
              "      <td>-2.647468</td>\n",
              "      <td>14.623319</td>\n",
              "      <td>0.210574</td>\n",
              "      <td>1.297850</td>\n",
              "      <td>0.034215</td>\n",
              "      <td>-0.686379</td>\n",
              "      <td>0.0</td>\n",
              "    </tr>\n",
              "    <tr>\n",
              "      <th>2011-08-18 11:52:52+02:00</th>\n",
              "      <td>-2.653242</td>\n",
              "      <td>14.672516</td>\n",
              "      <td>0.207854</td>\n",
              "      <td>1.308294</td>\n",
              "      <td>0.039667</td>\n",
              "      <td>-0.684241</td>\n",
              "      <td>1.0</td>\n",
              "    </tr>\n",
              "    <tr>\n",
              "      <th>2011-08-18 11:52:53+02:00</th>\n",
              "      <td>-2.655689</td>\n",
              "      <td>14.687272</td>\n",
              "      <td>0.213272</td>\n",
              "      <td>1.312469</td>\n",
              "      <td>0.034948</td>\n",
              "      <td>-0.680960</td>\n",
              "      <td>0.0</td>\n",
              "    </tr>\n",
              "  </tbody>\n",
              "</table>\n",
              "<p>5638 rows × 7 columns</p>\n",
              "</div>\n",
              "      <button class=\"colab-df-convert\" onclick=\"convertToInteractive('df-bc8858d9-0020-41a8-a8ca-db396f632b6f')\"\n",
              "              title=\"Convert this dataframe to an interactive table.\"\n",
              "              style=\"display:none;\">\n",
              "        \n",
              "  <svg xmlns=\"http://www.w3.org/2000/svg\" height=\"24px\"viewBox=\"0 0 24 24\"\n",
              "       width=\"24px\">\n",
              "    <path d=\"M0 0h24v24H0V0z\" fill=\"none\"/>\n",
              "    <path d=\"M18.56 5.44l.94 2.06.94-2.06 2.06-.94-2.06-.94-.94-2.06-.94 2.06-2.06.94zm-11 1L8.5 8.5l.94-2.06 2.06-.94-2.06-.94L8.5 2.5l-.94 2.06-2.06.94zm10 10l.94 2.06.94-2.06 2.06-.94-2.06-.94-.94-2.06-.94 2.06-2.06.94z\"/><path d=\"M17.41 7.96l-1.37-1.37c-.4-.4-.92-.59-1.43-.59-.52 0-1.04.2-1.43.59L10.3 9.45l-7.72 7.72c-.78.78-.78 2.05 0 2.83L4 21.41c.39.39.9.59 1.41.59.51 0 1.02-.2 1.41-.59l7.78-7.78 2.81-2.81c.8-.78.8-2.07 0-2.86zM5.41 20L4 18.59l7.72-7.72 1.47 1.35L5.41 20z\"/>\n",
              "  </svg>\n",
              "      </button>\n",
              "      \n",
              "  <style>\n",
              "    .colab-df-container {\n",
              "      display:flex;\n",
              "      flex-wrap:wrap;\n",
              "      gap: 12px;\n",
              "    }\n",
              "\n",
              "    .colab-df-convert {\n",
              "      background-color: #E8F0FE;\n",
              "      border: none;\n",
              "      border-radius: 50%;\n",
              "      cursor: pointer;\n",
              "      display: none;\n",
              "      fill: #1967D2;\n",
              "      height: 32px;\n",
              "      padding: 0 0 0 0;\n",
              "      width: 32px;\n",
              "    }\n",
              "\n",
              "    .colab-df-convert:hover {\n",
              "      background-color: #E2EBFA;\n",
              "      box-shadow: 0px 1px 2px rgba(60, 64, 67, 0.3), 0px 1px 3px 1px rgba(60, 64, 67, 0.15);\n",
              "      fill: #174EA6;\n",
              "    }\n",
              "\n",
              "    [theme=dark] .colab-df-convert {\n",
              "      background-color: #3B4455;\n",
              "      fill: #D2E3FC;\n",
              "    }\n",
              "\n",
              "    [theme=dark] .colab-df-convert:hover {\n",
              "      background-color: #434B5C;\n",
              "      box-shadow: 0px 1px 3px 1px rgba(0, 0, 0, 0.15);\n",
              "      filter: drop-shadow(0px 1px 2px rgba(0, 0, 0, 0.3));\n",
              "      fill: #FFFFFF;\n",
              "    }\n",
              "  </style>\n",
              "\n",
              "      <script>\n",
              "        const buttonEl =\n",
              "          document.querySelector('#df-bc8858d9-0020-41a8-a8ca-db396f632b6f button.colab-df-convert');\n",
              "        buttonEl.style.display =\n",
              "          google.colab.kernel.accessAllowed ? 'block' : 'none';\n",
              "\n",
              "        async function convertToInteractive(key) {\n",
              "          const element = document.querySelector('#df-bc8858d9-0020-41a8-a8ca-db396f632b6f');\n",
              "          const dataTable =\n",
              "            await google.colab.kernel.invokeFunction('convertToInteractive',\n",
              "                                                     [key], {});\n",
              "          if (!dataTable) return;\n",
              "\n",
              "          const docLinkHtml = 'Like what you see? Visit the ' +\n",
              "            '<a target=\"_blank\" href=https://colab.research.google.com/notebooks/data_table.ipynb>data table notebook</a>'\n",
              "            + ' to learn more about interactive tables.';\n",
              "          element.innerHTML = '';\n",
              "          dataTable['output_type'] = 'display_data';\n",
              "          await google.colab.output.renderOutput(dataTable, element);\n",
              "          const docLink = document.createElement('div');\n",
              "          docLink.innerHTML = docLinkHtml;\n",
              "          element.appendChild(docLink);\n",
              "        }\n",
              "      </script>\n",
              "    </div>\n",
              "  </div>\n",
              "  "
            ],
            "text/plain": [
              "                           frame_len_skew  frame_len_kurt  \\\n",
              "frame.time                                                  \n",
              "2011-08-18 10:19:13+02:00             NaN             NaN   \n",
              "2011-08-18 10:19:14+02:00             NaN             NaN   \n",
              "2011-08-18 10:19:15+02:00        0.819354             NaN   \n",
              "2011-08-18 10:19:16+02:00        0.947504        0.271008   \n",
              "2011-08-18 10:19:17+02:00        1.256111        0.932081   \n",
              "...                                   ...             ...   \n",
              "2011-08-18 11:52:49+02:00       -2.662761       14.734984   \n",
              "2011-08-18 11:52:50+02:00       -2.651266       14.655029   \n",
              "2011-08-18 11:52:51+02:00       -2.647468       14.623319   \n",
              "2011-08-18 11:52:52+02:00       -2.653242       14.672516   \n",
              "2011-08-18 11:52:53+02:00       -2.655689       14.687272   \n",
              "\n",
              "                           frame_time_delta_skew  frame_time_delta_kurt  \\\n",
              "frame.time                                                                \n",
              "2011-08-18 10:19:13+02:00                    NaN                    NaN   \n",
              "2011-08-18 10:19:14+02:00                    NaN                    NaN   \n",
              "2011-08-18 10:19:15+02:00              -1.465798                    NaN   \n",
              "2011-08-18 10:19:16+02:00              -1.754291               3.042090   \n",
              "2011-08-18 10:19:17+02:00              -0.590716              -2.786635   \n",
              "...                                          ...                    ...   \n",
              "2011-08-18 11:52:49+02:00               0.205026               1.324001   \n",
              "2011-08-18 11:52:50+02:00               0.205390               1.291960   \n",
              "2011-08-18 11:52:51+02:00               0.210574               1.297850   \n",
              "2011-08-18 11:52:52+02:00               0.207854               1.308294   \n",
              "2011-08-18 11:52:53+02:00               0.213272               1.312469   \n",
              "\n",
              "                           tcp_window_size_skew  tcp_window_size_kurt  Class  \n",
              "frame.time                                                                    \n",
              "2011-08-18 10:19:13+02:00                   NaN                   NaN    0.0  \n",
              "2011-08-18 10:19:14+02:00                   NaN                   NaN    0.0  \n",
              "2011-08-18 10:19:15+02:00             -0.372869                   NaN    0.0  \n",
              "2011-08-18 10:19:16+02:00              1.494747              2.486826    0.0  \n",
              "2011-08-18 10:19:17+02:00              0.353852             -2.798971    0.0  \n",
              "...                                         ...                   ...    ...  \n",
              "2011-08-18 11:52:49+02:00              0.019434             -0.709804    1.0  \n",
              "2011-08-18 11:52:50+02:00              0.040859             -0.679819    1.0  \n",
              "2011-08-18 11:52:51+02:00              0.034215             -0.686379    0.0  \n",
              "2011-08-18 11:52:52+02:00              0.039667             -0.684241    1.0  \n",
              "2011-08-18 11:52:53+02:00              0.034948             -0.680960    0.0  \n",
              "\n",
              "[5638 rows x 7 columns]"
            ]
          },
          "execution_count": 8,
          "metadata": {},
          "output_type": "execute_result"
        }
      ],
      "source": [
        "df = pd.read_csv (dataset, parse_dates=True, index_col='frame.time')\n",
        "df.index = df.index.tz_convert(tz='Europe/Berlin')\n",
        "df"
      ]
    },
    {
      "cell_type": "code",
      "execution_count": null,
      "metadata": {
        "colab": {
          "base_uri": "https://localhost:8080/"
        },
        "id": "r6RHM_YPtO_T",
        "outputId": "1bb93a5f-f81a-4213-fe4d-6fe79f9773dd"
      },
      "outputs": [
        {
          "name": "stdout",
          "output_type": "stream",
          "text": [
            "frame_len_skew           0\n",
            "frame_len_kurt           0\n",
            "frame_time_delta_skew    0\n",
            "frame_time_delta_kurt    0\n",
            "tcp_window_size_skew     0\n",
            "tcp_window_size_kurt     0\n",
            "Class                    0\n",
            "dtype: int64\n"
          ]
        }
      ],
      "source": [
        "df.dropna(inplace=True)\n",
        "print(df.isnull().sum())\n",
        "#df.info()"
      ]
    },
    {
      "cell_type": "code",
      "execution_count": null,
      "metadata": {
        "colab": {
          "base_uri": "https://localhost:8080/"
        },
        "id": "qLcKwqh94p26",
        "outputId": "c0713624-37a1-41cb-b5ea-53c09597e2de"
      },
      "outputs": [
        {
          "data": {
            "text/plain": [
              "(5582, 6)"
            ]
          },
          "execution_count": 10,
          "metadata": {},
          "output_type": "execute_result"
        }
      ],
      "source": [
        "new_df = df.drop(columns=['Class'])\n",
        "#new_df = new_df[:'2011-08-18 11:52:53']\n",
        "new_df.shape"
      ]
    },
    {
      "cell_type": "code",
      "execution_count": null,
      "metadata": {
        "id": "kW4C3iZGElZp"
      },
      "outputs": [],
      "source": [
        "import matplotlib.pyplot as plt\n",
        "\n",
        "SMALL_SIZE = 10\n",
        "MEDIUM_SIZE = 12\n",
        "BIGGER_SIZE = 15\n",
        "\n",
        "plt.rc('font', size=BIGGER_SIZE)          # controls default text sizes\n",
        "plt.rc('axes', titlesize=BIGGER_SIZE)     # fontsize of the axes title\n",
        "plt.rc('axes', labelsize=BIGGER_SIZE)    # fontsize of the x and y labels\n",
        "plt.rc('xtick', labelsize=BIGGER_SIZE)    # fontsize of the tick labels\n",
        "plt.rc('ytick', labelsize=BIGGER_SIZE)    # fontsize of the tick labels\n",
        "plt.rc('legend', fontsize=BIGGER_SIZE)    # legend fontsize\n",
        "plt.rc('figure', titlesize=BIGGER_SIZE)  # fontsize of the figure title\n",
        "\n",
        "plt.rcParams[\"date.autoformatter.minute\"] = \"%H:%M\""
      ]
    },
    {
      "cell_type": "code",
      "execution_count": null,
      "metadata": {
        "colab": {
          "base_uri": "https://localhost:8080/",
          "height": 418
        },
        "id": "1zGNLg2tEVoq",
        "outputId": "3f0d48b0-ca94-403b-f4dd-3ee8d82d9846"
      },
      "outputs": [
        {
          "data": {
            "text/plain": [
              "[Text(0, 0.5, 'Skewness'), Text(0.5, 0, 'Tempo')]"
            ]
          },
          "execution_count": 18,
          "metadata": {},
          "output_type": "execute_result"
        },
        {
          "data": {
            "image/png": "[encoded data removed]",
            "text/plain": [
              "<Figure size 720x432 with 1 Axes>"
            ]
          },
          "metadata": {
            "needs_background": "light"
          },
          "output_type": "display_data"
        }
      ],
      "source": [
        "import matplotlib.pyplot as plt\n",
        "\n",
        "plt.rcParams['timezone'] = 'Europe/Berlin'\n",
        "\n",
        "fig, axs = plt.subplots(1, 1, figsize=(10, 6))\n",
        "\n",
        "axs.plot(df['frame_time_delta_skew'])\n",
        "axs.axvspan(pd.to_datetime('2011-08-18 11:03:05').tz_localize('Europe/Berlin'), pd.to_datetime('2011-08-18 11:07:15').tz_localize('Europe/Berlin'), color='yellow', alpha=0.5, label='Infecção')\n",
        "labels = ['Custo (MAE)', 'Infecção']\n",
        "axs.legend(loc=\"upper left\", labels=labels)\n",
        "axs.set(xlabel='Tempo', ylabel='Skewness')"
      ]
    },
    {
      "cell_type": "code",
      "execution_count": null,
      "metadata": {
        "colab": {
          "base_uri": "https://localhost:8080/",
          "height": 418
        },
        "id": "mNv1YA3SEX9C",
        "outputId": "38deb7b8-d3b9-429d-e5e5-1972295e3060"
      },
      "outputs": [
        {
          "data": {
            "text/plain": [
              "[Text(0, 0.5, 'Kurtosis'), Text(0.5, 0, 'Tempo')]"
            ]
          },
          "execution_count": 19,
          "metadata": {},
          "output_type": "execute_result"
        },
        {
          "data": {
            "image/png": "[encoded data removed]",
            "text/plain": [
              "<Figure size 720x432 with 1 Axes>"
            ]
          },
          "metadata": {
            "needs_background": "light"
          },
          "output_type": "display_data"
        }
      ],
      "source": [
        "import matplotlib.pyplot as plt\n",
        "\n",
        "fig, axs = plt.subplots(1, 1, figsize=(10, 6))\n",
        "\n",
        "axs.plot(df['frame_time_delta_kurt'])\n",
        "axs.axvspan(pd.to_datetime('2011-08-18 11:03:05').tz_localize('Europe/Berlin'), pd.to_datetime('2011-08-18 11:07:15').tz_localize('Europe/Berlin'), color='yellow', alpha=0.5, label='Infecção')\n",
        "labels = ['Custo (MAE)', 'Infecção']\n",
        "axs.legend(loc=\"upper left\", labels=labels)\n",
        "axs.set(xlabel='Tempo', ylabel='Kurtosis')"
      ]
    },
    {
      "cell_type": "code",
      "execution_count": null,
      "metadata": {
        "id": "stcu5_wPNhYB"
      },
      "outputs": [],
      "source": [
        "total_rows = 5638\n",
        "train_chunk = round(total_rows / 3)\n",
        "test_chunk_1 = train_chunk * 2"
      ]
    },
    {
      "cell_type": "code",
      "execution_count": null,
      "metadata": {
        "colab": {
          "base_uri": "https://localhost:8080/"
        },
        "id": "U49f_6WbSshG",
        "outputId": "9e22a388-569c-48ac-e823-ddc72e2966a6"
      },
      "outputs": [
        {
          "name": "stdout",
          "output_type": "stream",
          "text": [
            "Training dataset shape:  (1879, 6)\n",
            "Validation dataset shape:  (1879, 6)\n",
            "Test dataset shape:  (1824, 6)\n"
          ]
        }
      ],
      "source": [
        "train = new_df.iloc[:train_chunk]\n",
        "test = new_df.iloc[train_chunk:test_chunk_1]\n",
        "test_2 = new_df.iloc[test_chunk_1:]\n",
        "print(\"Training dataset shape: \", train.shape)\n",
        "print(\"Validation dataset shape: \", test.shape)\n",
        "print(\"Test dataset shape: \", test_2.shape)"
      ]
    },
    {
      "cell_type": "code",
      "execution_count": null,
      "metadata": {
        "colab": {
          "base_uri": "https://localhost:8080/"
        },
        "id": "BTgYGpWoyZCA",
        "outputId": "32bebe5d-b338-49e0-ae5a-61f488ef172c",
        "scrolled": true
      },
      "outputs": [
        {
          "data": {
            "text/plain": [
              "['scaler_data']"
            ]
          },
          "execution_count": 23,
          "metadata": {},
          "output_type": "execute_result"
        }
      ],
      "source": [
        "scaler = MinMaxScaler()\n",
        "X_train = scaler.fit_transform(train)\n",
        "X_test = scaler.fit_transform(test)\n",
        "X_test_2 = scaler.fit_transform(test_2)\n",
        "scaler_filename = 'scaler_data'\n",
        "joblib.dump(scaler, scaler_filename)"
      ]
    },
    {
      "cell_type": "code",
      "execution_count": null,
      "metadata": {
        "colab": {
          "base_uri": "https://localhost:8080/"
        },
        "id": "i1tt7fChytJV",
        "outputId": "709df74a-0873-48ea-9885-ec250980d6a7"
      },
      "outputs": [
        {
          "name": "stdout",
          "output_type": "stream",
          "text": [
            "Training data shape: (1879, 1, 6)\n",
            "Test data shape:  (1879, 1, 6)\n",
            "Test data shape:  (1824, 1, 6)\n"
          ]
        }
      ],
      "source": [
        "X_train = X_train.reshape(X_train.shape[0], 1, X_train.shape[1])\n",
        "print(\"Training data shape:\", X_train.shape)\n",
        "X_test = X_test.reshape(X_test.shape[0], 1, X_test.shape[1])\n",
        "print(\"Test data shape: \", X_test.shape)\n",
        "X_test_2 = X_test_2.reshape(X_test_2.shape[0], 1, X_test_2.shape[1])\n",
        "print(\"Test data shape: \", X_test_2.shape)"
      ]
    },
    {
      "cell_type": "code",
      "execution_count": null,
      "metadata": {
        "id": "txxvVB-Ymbr2"
      },
      "outputs": [],
      "source": [
        "def autoencoder_model(X):\n",
        "  inputs = Input(shape=(X.shape[1], X.shape[2]))\n",
        "  L1 = LSTM(16, activation='relu', return_sequences=True, kernel_regularizer=regularizers.l2(0.00))(inputs)\n",
        "#  L1 = LSTM(16, activation='relu', return_sequences=True)(inputs)  \n",
        "  L2 = LSTM(4, activation='relu', return_sequences=False)(L1)\n",
        "  L3 = RepeatVector(X.shape[1])(L2)\n",
        "  L4 = LSTM(4, activation='relu', return_sequences=True)(L3)\n",
        "  L5 = LSTM(16, activation='relu', return_sequences=True)(L4)\n",
        "  output = TimeDistributed(Dense(X.shape[2]))(L5)\n",
        "  model = Model(inputs=inputs, outputs=output)\n",
        "  return model "
      ]
    },
    {
      "cell_type": "code",
      "execution_count": null,
      "metadata": {
        "colab": {
          "base_uri": "https://localhost:8080/"
        },
        "id": "WpzVsorc1IKu",
        "outputId": "4a1ae979-b25b-4e44-a2ac-16676a97746f"
      },
      "outputs": [
        {
          "data": {
            "text/plain": [
              "array([[[0.84491144, 0.23434161, 0.        , 0.56498148, 0.73076163,\n",
              "         0.472048  ]],\n",
              "\n",
              "       [[0.91554759, 0.29694241, 0.26015206, 0.        , 0.40654159,\n",
              "         0.06748032]],\n",
              "\n",
              "       [[0.97619224, 0.39933467, 0.23622573, 0.19328753, 0.49724811,\n",
              "         0.1554272 ]],\n",
              "\n",
              "       ...,\n",
              "\n",
              "       [[0.78278125, 0.24053622, 0.18790617, 0.37873222, 0.4272021 ,\n",
              "         0.16059786]],\n",
              "\n",
              "       [[0.73553052, 0.2031405 , 0.16291973, 0.39232007, 0.46458564,\n",
              "         0.17147679]],\n",
              "\n",
              "       [[0.73291424, 0.22265041, 0.14377496, 0.42477504, 0.44368857,\n",
              "         0.19063104]]])"
            ]
          },
          "execution_count": 26,
          "metadata": {},
          "output_type": "execute_result"
        }
      ],
      "source": [
        "X_train"
      ]
    },
    {
      "cell_type": "code",
      "execution_count": null,
      "metadata": {
        "colab": {
          "base_uri": "https://localhost:8080/"
        },
        "id": "LKonmJL-oBYA",
        "outputId": "e3703e8e-e189-455a-d9a8-9a672a446cf5"
      },
      "outputs": [
        {
          "name": "stdout",
          "output_type": "stream",
          "text": [
            "Model: \"model\"\n",
            "_________________________________________________________________\n",
            " Layer (type)                Output Shape              Param #   \n",
            "=================================================================\n",
            " input_1 (InputLayer)        [(None, 1, 6)]            0         \n",
            "                                                                 \n",
            " lstm (LSTM)                 (None, 1, 16)             1472      \n",
            "                                                                 \n",
            " lstm_1 (LSTM)               (None, 4)                 336       \n",
            "                                                                 \n",
            " repeat_vector (RepeatVector  (None, 1, 4)             0         \n",
            " )                                                               \n",
            "                                                                 \n",
            " lstm_2 (LSTM)               (None, 1, 4)              144       \n",
            "                                                                 \n",
            " lstm_3 (LSTM)               (None, 1, 16)             1344      \n",
            "                                                                 \n",
            " time_distributed (TimeDistr  (None, 1, 6)             102       \n",
            " ibuted)                                                         \n",
            "                                                                 \n",
            "=================================================================\n",
            "Total params: 3,398\n",
            "Trainable params: 3,398\n",
            "Non-trainable params: 0\n",
            "_________________________________________________________________\n"
          ]
        }
      ],
      "source": [
        "model = autoencoder_model(X_train)\n",
        "model.compile(optimizer='adam', loss='mae')\n",
        "model.summary()"
      ]
    },
    {
      "cell_type": "code",
      "execution_count": null,
      "metadata": {
        "colab": {
          "base_uri": "https://localhost:8080/"
        },
        "id": "KerKWzjbdLG8",
        "outputId": "aa885dd6-849f-41ff-ca2a-86c0abc2c8a3"
      },
      "outputs": [
        {
          "name": "stdout",
          "output_type": "stream",
          "text": [
            "(1879, 1, 6)\n"
          ]
        }
      ],
      "source": [
        "print(X_train.shape)"
      ]
    },
    {
      "cell_type": "code",
      "execution_count": null,
      "metadata": {
        "colab": {
          "base_uri": "https://localhost:8080/"
        },
        "id": "O7Zg5shbs_Zv",
        "outputId": "d39644ce-db65-4ff9-8b95-e983d4a8560d"
      },
      "outputs": [
        {
          "name": "stdout",
          "output_type": "stream",
          "text": [
            "Epoch 1/100\n",
            "170/170 [==============================] - 7s 10ms/step - loss: 0.3258 - val_loss: 0.1397\n",
            "Epoch 2/100\n",
            "170/170 [==============================] - 1s 6ms/step - loss: 0.1180 - val_loss: 0.0986\n",
            "Epoch 3/100\n",
            "170/170 [==============================] - 1s 6ms/step - loss: 0.1125 - val_loss: 0.0925\n",
            "Epoch 4/100\n",
            "170/170 [==============================] - 1s 5ms/step - loss: 0.1106 - val_loss: 0.0917\n",
            "Epoch 5/100\n",
            "170/170 [==============================] - 1s 6ms/step - loss: 0.1082 - val_loss: 0.0867\n",
            "Epoch 6/100\n",
            "170/170 [==============================] - 1s 5ms/step - loss: 0.1049 - val_loss: 0.0831\n",
            "Epoch 7/100\n",
            "170/170 [==============================] - 1s 5ms/step - loss: 0.1012 - val_loss: 0.0858\n",
            "Epoch 8/100\n",
            "170/170 [==============================] - 1s 6ms/step - loss: 0.0982 - val_loss: 0.0895\n",
            "Epoch 9/100\n",
            "170/170 [==============================] - 1s 6ms/step - loss: 0.0959 - val_loss: 0.0919\n",
            "Epoch 10/100\n",
            "170/170 [==============================] - 1s 6ms/step - loss: 0.0943 - val_loss: 0.1020\n",
            "Epoch 11/100\n",
            "170/170 [==============================] - 1s 6ms/step - loss: 0.0933 - val_loss: 0.0988\n",
            "Epoch 12/100\n",
            "170/170 [==============================] - 1s 5ms/step - loss: 0.0922 - val_loss: 0.0944\n",
            "Epoch 13/100\n",
            "170/170 [==============================] - 1s 5ms/step - loss: 0.0915 - val_loss: 0.1010\n",
            "Epoch 14/100\n",
            "170/170 [==============================] - 1s 5ms/step - loss: 0.0908 - val_loss: 0.1005\n",
            "Epoch 15/100\n",
            "170/170 [==============================] - 1s 6ms/step - loss: 0.0900 - val_loss: 0.0990\n",
            "Epoch 16/100\n",
            "170/170 [==============================] - 1s 5ms/step - loss: 0.0896 - val_loss: 0.0974\n",
            "Epoch 17/100\n",
            "170/170 [==============================] - 1s 6ms/step - loss: 0.0890 - val_loss: 0.0993\n",
            "Epoch 18/100\n",
            "170/170 [==============================] - 1s 5ms/step - loss: 0.0887 - val_loss: 0.0963\n",
            "Epoch 19/100\n",
            "170/170 [==============================] - 1s 6ms/step - loss: 0.0884 - val_loss: 0.0970\n",
            "Epoch 20/100\n",
            "170/170 [==============================] - 1s 6ms/step - loss: 0.0882 - val_loss: 0.0959\n",
            "Epoch 21/100\n",
            "170/170 [==============================] - 1s 6ms/step - loss: 0.0879 - val_loss: 0.0981\n",
            "Epoch 22/100\n",
            "170/170 [==============================] - 1s 6ms/step - loss: 0.0876 - val_loss: 0.1001\n",
            "Epoch 23/100\n",
            "170/170 [==============================] - 1s 5ms/step - loss: 0.0873 - val_loss: 0.0991\n",
            "Epoch 24/100\n",
            "170/170 [==============================] - 1s 5ms/step - loss: 0.0871 - val_loss: 0.0969\n",
            "Epoch 25/100\n",
            "170/170 [==============================] - 1s 5ms/step - loss: 0.0868 - val_loss: 0.0974\n",
            "Epoch 26/100\n",
            "170/170 [==============================] - 1s 5ms/step - loss: 0.0866 - val_loss: 0.0914\n",
            "Epoch 27/100\n",
            "170/170 [==============================] - 1s 5ms/step - loss: 0.0863 - val_loss: 0.0911\n",
            "Epoch 28/100\n",
            "170/170 [==============================] - 1s 6ms/step - loss: 0.0860 - val_loss: 0.0938\n",
            "Epoch 29/100\n",
            "170/170 [==============================] - 1s 6ms/step - loss: 0.0857 - val_loss: 0.0971\n",
            "Epoch 30/100\n",
            "170/170 [==============================] - 1s 6ms/step - loss: 0.0859 - val_loss: 0.0928\n",
            "Epoch 31/100\n",
            "170/170 [==============================] - 1s 5ms/step - loss: 0.0855 - val_loss: 0.0923\n",
            "Epoch 32/100\n",
            "170/170 [==============================] - 1s 5ms/step - loss: 0.0855 - val_loss: 0.0946\n",
            "Epoch 33/100\n",
            "170/170 [==============================] - 1s 5ms/step - loss: 0.0854 - val_loss: 0.0897\n",
            "Epoch 34/100\n",
            "170/170 [==============================] - 1s 5ms/step - loss: 0.0852 - val_loss: 0.0882\n",
            "Epoch 35/100\n",
            "170/170 [==============================] - 1s 6ms/step - loss: 0.0851 - val_loss: 0.0938\n",
            "Epoch 36/100\n",
            "170/170 [==============================] - 1s 5ms/step - loss: 0.0850 - val_loss: 0.0906\n",
            "Epoch 37/100\n",
            "170/170 [==============================] - 1s 6ms/step - loss: 0.0850 - val_loss: 0.0911\n",
            "Epoch 38/100\n",
            "170/170 [==============================] - 1s 6ms/step - loss: 0.0851 - val_loss: 0.0896\n",
            "Epoch 39/100\n",
            "170/170 [==============================] - 1s 6ms/step - loss: 0.0850 - val_loss: 0.0891\n",
            "Epoch 40/100\n",
            "170/170 [==============================] - 1s 6ms/step - loss: 0.0849 - val_loss: 0.0925\n",
            "Epoch 41/100\n",
            "170/170 [==============================] - 1s 6ms/step - loss: 0.0848 - val_loss: 0.0908\n",
            "Epoch 42/100\n",
            "170/170 [==============================] - 1s 5ms/step - loss: 0.0848 - val_loss: 0.0902\n",
            "Epoch 43/100\n",
            "170/170 [==============================] - 1s 5ms/step - loss: 0.0848 - val_loss: 0.0895\n",
            "Epoch 44/100\n",
            "170/170 [==============================] - 1s 6ms/step - loss: 0.0846 - val_loss: 0.0941\n",
            "Epoch 45/100\n",
            "170/170 [==============================] - 1s 5ms/step - loss: 0.0846 - val_loss: 0.0893\n",
            "Epoch 46/100\n",
            "170/170 [==============================] - 1s 6ms/step - loss: 0.0846 - val_loss: 0.0899\n",
            "Epoch 47/100\n",
            "170/170 [==============================] - 1s 5ms/step - loss: 0.0846 - val_loss: 0.0847\n",
            "Epoch 48/100\n",
            "170/170 [==============================] - 1s 5ms/step - loss: 0.0849 - val_loss: 0.0859\n",
            "Epoch 49/100\n",
            "170/170 [==============================] - 1s 6ms/step - loss: 0.0846 - val_loss: 0.0883\n",
            "Epoch 50/100\n",
            "170/170 [==============================] - 1s 6ms/step - loss: 0.0846 - val_loss: 0.0870\n",
            "Epoch 51/100\n",
            "170/170 [==============================] - 1s 6ms/step - loss: 0.0845 - val_loss: 0.0890\n",
            "Epoch 52/100\n",
            "170/170 [==============================] - 1s 5ms/step - loss: 0.0845 - val_loss: 0.0901\n",
            "Epoch 53/100\n",
            "170/170 [==============================] - 1s 5ms/step - loss: 0.0845 - val_loss: 0.0867\n",
            "Epoch 54/100\n",
            "170/170 [==============================] - 1s 6ms/step - loss: 0.0844 - val_loss: 0.0901\n",
            "Epoch 55/100\n",
            "170/170 [==============================] - 1s 5ms/step - loss: 0.0845 - val_loss: 0.0888\n",
            "Epoch 56/100\n",
            "170/170 [==============================] - 1s 5ms/step - loss: 0.0844 - val_loss: 0.0890\n",
            "Epoch 57/100\n",
            "170/170 [==============================] - 1s 5ms/step - loss: 0.0843 - val_loss: 0.0902\n",
            "Epoch 58/100\n",
            "170/170 [==============================] - 1s 5ms/step - loss: 0.0842 - val_loss: 0.0904\n",
            "Epoch 59/100\n",
            "170/170 [==============================] - 1s 5ms/step - loss: 0.0843 - val_loss: 0.0873\n",
            "Epoch 60/100\n",
            "170/170 [==============================] - 1s 6ms/step - loss: 0.0844 - val_loss: 0.0906\n",
            "Epoch 61/100\n",
            "170/170 [==============================] - 1s 6ms/step - loss: 0.0843 - val_loss: 0.0886\n",
            "Epoch 62/100\n",
            "170/170 [==============================] - 1s 6ms/step - loss: 0.0842 - val_loss: 0.0906\n",
            "Epoch 63/100\n",
            "170/170 [==============================] - 1s 5ms/step - loss: 0.0842 - val_loss: 0.0902\n",
            "Epoch 64/100\n",
            "170/170 [==============================] - 1s 6ms/step - loss: 0.0842 - val_loss: 0.0884\n",
            "Epoch 65/100\n",
            "170/170 [==============================] - 1s 5ms/step - loss: 0.0842 - val_loss: 0.0861\n",
            "Epoch 66/100\n",
            "170/170 [==============================] - 1s 5ms/step - loss: 0.0841 - val_loss: 0.0881\n",
            "Epoch 67/100\n",
            "170/170 [==============================] - 1s 5ms/step - loss: 0.0840 - val_loss: 0.0897\n",
            "Epoch 68/100\n",
            "170/170 [==============================] - 1s 5ms/step - loss: 0.0841 - val_loss: 0.0904\n",
            "Epoch 69/100\n",
            "170/170 [==============================] - 1s 5ms/step - loss: 0.0838 - val_loss: 0.0906\n",
            "Epoch 70/100\n",
            "170/170 [==============================] - 1s 5ms/step - loss: 0.0839 - val_loss: 0.0863\n",
            "Epoch 71/100\n",
            "170/170 [==============================] - 1s 6ms/step - loss: 0.0838 - val_loss: 0.0865\n",
            "Epoch 72/100\n",
            "170/170 [==============================] - 1s 5ms/step - loss: 0.0837 - val_loss: 0.0840\n",
            "Epoch 73/100\n",
            "170/170 [==============================] - 1s 5ms/step - loss: 0.0836 - val_loss: 0.0899\n",
            "Epoch 74/100\n",
            "170/170 [==============================] - 1s 5ms/step - loss: 0.0836 - val_loss: 0.0879\n",
            "Epoch 75/100\n",
            "170/170 [==============================] - 1s 5ms/step - loss: 0.0834 - val_loss: 0.0883\n",
            "Epoch 76/100\n",
            "170/170 [==============================] - 1s 5ms/step - loss: 0.0833 - val_loss: 0.0910\n",
            "Epoch 77/100\n",
            "170/170 [==============================] - 1s 5ms/step - loss: 0.0831 - val_loss: 0.0931\n",
            "Epoch 78/100\n",
            "170/170 [==============================] - 1s 5ms/step - loss: 0.0830 - val_loss: 0.0901\n",
            "Epoch 79/100\n",
            "170/170 [==============================] - 1s 6ms/step - loss: 0.0828 - val_loss: 0.0922\n",
            "Epoch 80/100\n",
            "170/170 [==============================] - 1s 5ms/step - loss: 0.0825 - val_loss: 0.0889\n",
            "Epoch 81/100\n",
            "170/170 [==============================] - 1s 5ms/step - loss: 0.0821 - val_loss: 0.0854\n",
            "Epoch 82/100\n",
            "170/170 [==============================] - 1s 5ms/step - loss: 0.0817 - val_loss: 0.0890\n",
            "Epoch 83/100\n",
            "170/170 [==============================] - 1s 5ms/step - loss: 0.0813 - val_loss: 0.0878\n",
            "Epoch 84/100\n",
            "170/170 [==============================] - 1s 5ms/step - loss: 0.0807 - val_loss: 0.0881\n",
            "Epoch 85/100\n",
            "170/170 [==============================] - 1s 5ms/step - loss: 0.0803 - val_loss: 0.0883\n",
            "Epoch 86/100\n",
            "170/170 [==============================] - 1s 5ms/step - loss: 0.0800 - val_loss: 0.0880\n",
            "Epoch 87/100\n",
            "170/170 [==============================] - 1s 5ms/step - loss: 0.0794 - val_loss: 0.0862\n",
            "Epoch 88/100\n",
            "170/170 [==============================] - 1s 5ms/step - loss: 0.0790 - val_loss: 0.0905\n",
            "Epoch 89/100\n",
            "170/170 [==============================] - 1s 6ms/step - loss: 0.0786 - val_loss: 0.0857\n",
            "Epoch 90/100\n",
            "170/170 [==============================] - 1s 7ms/step - loss: 0.0783 - val_loss: 0.0896\n",
            "Epoch 91/100\n",
            "170/170 [==============================] - 1s 8ms/step - loss: 0.0780 - val_loss: 0.0880\n",
            "Epoch 92/100\n",
            "170/170 [==============================] - 1s 5ms/step - loss: 0.0777 - val_loss: 0.0898\n",
            "Epoch 93/100\n",
            "170/170 [==============================] - 1s 5ms/step - loss: 0.0775 - val_loss: 0.0859\n",
            "Epoch 94/100\n",
            "170/170 [==============================] - 1s 5ms/step - loss: 0.0774 - val_loss: 0.0864\n",
            "Epoch 95/100\n",
            "170/170 [==============================] - 1s 5ms/step - loss: 0.0771 - val_loss: 0.0850\n",
            "Epoch 96/100\n",
            "170/170 [==============================] - 1s 6ms/step - loss: 0.0770 - val_loss: 0.0870\n",
            "Epoch 97/100\n",
            "170/170 [==============================] - 1s 5ms/step - loss: 0.0767 - val_loss: 0.0884\n",
            "Epoch 98/100\n",
            "170/170 [==============================] - 1s 5ms/step - loss: 0.0766 - val_loss: 0.0888\n",
            "Epoch 99/100\n",
            "170/170 [==============================] - 1s 5ms/step - loss: 0.0765 - val_loss: 0.0902\n",
            "Epoch 100/100\n",
            "170/170 [==============================] - 1s 5ms/step - loss: 0.0762 - val_loss: 0.0856\n"
          ]
        }
      ],
      "source": [
        "nb_epochs = 100\n",
        "batch_size = 10\n",
        "history = model.fit(X_train, X_train, epochs=nb_epochs, batch_size=batch_size, validation_split=0.10).history"
      ]
    },
    {
      "cell_type": "code",
      "execution_count": null,
      "metadata": {
        "colab": {
          "base_uri": "https://localhost:8080/",
          "height": 467
        },
        "id": "E-LvbvVotUa-",
        "outputId": "4daec0d6-06c0-4db5-c097-b95fcbee98e9"
      },
      "outputs": [
        {
          "data": {
            "image/png": "[encoded data removed]",
            "text/plain": [
              "<Figure size 1120x480 with 1 Axes>"
            ]
          },
          "metadata": {
            "needs_background": "light"
          },
          "output_type": "display_data"
        }
      ],
      "source": [
        "fig, ax = plt.subplots(figsize=(14, 6), dpi=80)\n",
        "ax.plot(history['loss'], 'b', label='Train', linewidth=2)\n",
        "ax.plot(history['val_loss'], 'r', label='Validation', linewidth=2)\n",
        "ax.set_title('Model Loss', fontsize=16)\n",
        "ax.set_ylabel('Loss (mae)')\n",
        "ax.set_xlabel('Epoch')\n",
        "ax.legend(loc='upper right')\n",
        "plt.show()"
      ]
    },
    {
      "cell_type": "code",
      "execution_count": null,
      "metadata": {
        "colab": {
          "base_uri": "https://localhost:8080/",
          "height": 455
        },
        "id": "E60-tOdB3tXy",
        "outputId": "5b689404-7580-4a93-8dfe-d4559e1a1aa3"
      },
      "outputs": [
        {
          "data": {
            "text/html": [
              "\n",
              "  <div id=\"df-fd6d8aa8-83da-4eda-8c24-981dda402714\">\n",
              "    <div class=\"colab-df-container\">\n",
              "      <div>\n",
              "<style scoped>\n",
              "    .dataframe tbody tr th:only-of-type {\n",
              "        vertical-align: middle;\n",
              "    }\n",
              "\n",
              "    .dataframe tbody tr th {\n",
              "        vertical-align: top;\n",
              "    }\n",
              "\n",
              "    .dataframe thead th {\n",
              "        text-align: right;\n",
              "    }\n",
              "</style>\n",
              "<table border=\"1\" class=\"dataframe\">\n",
              "  <thead>\n",
              "    <tr style=\"text-align: right;\">\n",
              "      <th></th>\n",
              "      <th>frame_len_skew</th>\n",
              "      <th>frame_len_kurt</th>\n",
              "      <th>frame_time_delta_skew</th>\n",
              "      <th>frame_time_delta_kurt</th>\n",
              "      <th>tcp_window_size_skew</th>\n",
              "      <th>tcp_window_size_kurt</th>\n",
              "    </tr>\n",
              "    <tr>\n",
              "      <th>frame.time</th>\n",
              "      <th></th>\n",
              "      <th></th>\n",
              "      <th></th>\n",
              "      <th></th>\n",
              "      <th></th>\n",
              "      <th></th>\n",
              "    </tr>\n",
              "  </thead>\n",
              "  <tbody>\n",
              "    <tr>\n",
              "      <th>2011-08-18 10:19:16+02:00</th>\n",
              "      <td>0.616527</td>\n",
              "      <td>0.358632</td>\n",
              "      <td>0.449679</td>\n",
              "      <td>0.240652</td>\n",
              "      <td>0.580146</td>\n",
              "      <td>0.422591</td>\n",
              "    </tr>\n",
              "    <tr>\n",
              "      <th>2011-08-18 10:19:17+02:00</th>\n",
              "      <td>0.719251</td>\n",
              "      <td>0.378198</td>\n",
              "      <td>0.516359</td>\n",
              "      <td>0.376563</td>\n",
              "      <td>0.422557</td>\n",
              "      <td>0.298355</td>\n",
              "    </tr>\n",
              "    <tr>\n",
              "      <th>2011-08-18 10:19:18+02:00</th>\n",
              "      <td>0.720042</td>\n",
              "      <td>0.378358</td>\n",
              "      <td>0.516871</td>\n",
              "      <td>0.377622</td>\n",
              "      <td>0.421359</td>\n",
              "      <td>0.297418</td>\n",
              "    </tr>\n",
              "    <tr>\n",
              "      <th>2011-08-18 10:19:19+02:00</th>\n",
              "      <td>0.716885</td>\n",
              "      <td>0.377719</td>\n",
              "      <td>0.514831</td>\n",
              "      <td>0.373398</td>\n",
              "      <td>0.426140</td>\n",
              "      <td>0.301157</td>\n",
              "    </tr>\n",
              "    <tr>\n",
              "      <th>2011-08-18 10:19:20+02:00</th>\n",
              "      <td>0.747266</td>\n",
              "      <td>0.383957</td>\n",
              "      <td>0.534414</td>\n",
              "      <td>0.414111</td>\n",
              "      <td>0.380341</td>\n",
              "      <td>0.265434</td>\n",
              "    </tr>\n",
              "    <tr>\n",
              "      <th>...</th>\n",
              "      <td>...</td>\n",
              "      <td>...</td>\n",
              "      <td>...</td>\n",
              "      <td>...</td>\n",
              "      <td>...</td>\n",
              "      <td>...</td>\n",
              "    </tr>\n",
              "    <tr>\n",
              "      <th>2011-08-18 10:50:40+02:00</th>\n",
              "      <td>0.740466</td>\n",
              "      <td>0.382543</td>\n",
              "      <td>0.530040</td>\n",
              "      <td>0.404986</td>\n",
              "      <td>0.390552</td>\n",
              "      <td>0.273381</td>\n",
              "    </tr>\n",
              "    <tr>\n",
              "      <th>2011-08-18 10:50:41+02:00</th>\n",
              "      <td>0.732209</td>\n",
              "      <td>0.380840</td>\n",
              "      <td>0.524721</td>\n",
              "      <td>0.393914</td>\n",
              "      <td>0.402983</td>\n",
              "      <td>0.283069</td>\n",
              "    </tr>\n",
              "    <tr>\n",
              "      <th>2011-08-18 10:50:42+02:00</th>\n",
              "      <td>0.729754</td>\n",
              "      <td>0.380337</td>\n",
              "      <td>0.523138</td>\n",
              "      <td>0.390625</td>\n",
              "      <td>0.406685</td>\n",
              "      <td>0.285957</td>\n",
              "    </tr>\n",
              "    <tr>\n",
              "      <th>2011-08-18 10:50:43+02:00</th>\n",
              "      <td>0.717765</td>\n",
              "      <td>0.377897</td>\n",
              "      <td>0.515399</td>\n",
              "      <td>0.374575</td>\n",
              "      <td>0.424807</td>\n",
              "      <td>0.300115</td>\n",
              "    </tr>\n",
              "    <tr>\n",
              "      <th>2011-08-18 10:50:44+02:00</th>\n",
              "      <td>0.718978</td>\n",
              "      <td>0.378142</td>\n",
              "      <td>0.516183</td>\n",
              "      <td>0.376198</td>\n",
              "      <td>0.422970</td>\n",
              "      <td>0.298678</td>\n",
              "    </tr>\n",
              "  </tbody>\n",
              "</table>\n",
              "<p>1879 rows × 6 columns</p>\n",
              "</div>\n",
              "      <button class=\"colab-df-convert\" onclick=\"convertToInteractive('df-fd6d8aa8-83da-4eda-8c24-981dda402714')\"\n",
              "              title=\"Convert this dataframe to an interactive table.\"\n",
              "              style=\"display:none;\">\n",
              "        \n",
              "  <svg xmlns=\"http://www.w3.org/2000/svg\" height=\"24px\"viewBox=\"0 0 24 24\"\n",
              "       width=\"24px\">\n",
              "    <path d=\"M0 0h24v24H0V0z\" fill=\"none\"/>\n",
              "    <path d=\"M18.56 5.44l.94 2.06.94-2.06 2.06-.94-2.06-.94-.94-2.06-.94 2.06-2.06.94zm-11 1L8.5 8.5l.94-2.06 2.06-.94-2.06-.94L8.5 2.5l-.94 2.06-2.06.94zm10 10l.94 2.06.94-2.06 2.06-.94-2.06-.94-.94-2.06-.94 2.06-2.06.94z\"/><path d=\"M17.41 7.96l-1.37-1.37c-.4-.4-.92-.59-1.43-.59-.52 0-1.04.2-1.43.59L10.3 9.45l-7.72 7.72c-.78.78-.78 2.05 0 2.83L4 21.41c.39.39.9.59 1.41.59.51 0 1.02-.2 1.41-.59l7.78-7.78 2.81-2.81c.8-.78.8-2.07 0-2.86zM5.41 20L4 18.59l7.72-7.72 1.47 1.35L5.41 20z\"/>\n",
              "  </svg>\n",
              "      </button>\n",
              "      \n",
              "  <style>\n",
              "    .colab-df-container {\n",
              "      display:flex;\n",
              "      flex-wrap:wrap;\n",
              "      gap: 12px;\n",
              "    }\n",
              "\n",
              "    .colab-df-convert {\n",
              "      background-color: #E8F0FE;\n",
              "      border: none;\n",
              "      border-radius: 50%;\n",
              "      cursor: pointer;\n",
              "      display: none;\n",
              "      fill: #1967D2;\n",
              "      height: 32px;\n",
              "      padding: 0 0 0 0;\n",
              "      width: 32px;\n",
              "    }\n",
              "\n",
              "    .colab-df-convert:hover {\n",
              "      background-color: #E2EBFA;\n",
              "      box-shadow: 0px 1px 2px rgba(60, 64, 67, 0.3), 0px 1px 3px 1px rgba(60, 64, 67, 0.15);\n",
              "      fill: #174EA6;\n",
              "    }\n",
              "\n",
              "    [theme=dark] .colab-df-convert {\n",
              "      background-color: #3B4455;\n",
              "      fill: #D2E3FC;\n",
              "    }\n",
              "\n",
              "    [theme=dark] .colab-df-convert:hover {\n",
              "      background-color: #434B5C;\n",
              "      box-shadow: 0px 1px 3px 1px rgba(0, 0, 0, 0.15);\n",
              "      filter: drop-shadow(0px 1px 2px rgba(0, 0, 0, 0.3));\n",
              "      fill: #FFFFFF;\n",
              "    }\n",
              "  </style>\n",
              "\n",
              "      <script>\n",
              "        const buttonEl =\n",
              "          document.querySelector('#df-fd6d8aa8-83da-4eda-8c24-981dda402714 button.colab-df-convert');\n",
              "        buttonEl.style.display =\n",
              "          google.colab.kernel.accessAllowed ? 'block' : 'none';\n",
              "\n",
              "        async function convertToInteractive(key) {\n",
              "          const element = document.querySelector('#df-fd6d8aa8-83da-4eda-8c24-981dda402714');\n",
              "          const dataTable =\n",
              "            await google.colab.kernel.invokeFunction('convertToInteractive',\n",
              "                                                     [key], {});\n",
              "          if (!dataTable) return;\n",
              "\n",
              "          const docLinkHtml = 'Like what you see? Visit the ' +\n",
              "            '<a target=\"_blank\" href=https://colab.research.google.com/notebooks/data_table.ipynb>data table notebook</a>'\n",
              "            + ' to learn more about interactive tables.';\n",
              "          element.innerHTML = '';\n",
              "          dataTable['output_type'] = 'display_data';\n",
              "          await google.colab.output.renderOutput(dataTable, element);\n",
              "          const docLink = document.createElement('div');\n",
              "          docLink.innerHTML = docLinkHtml;\n",
              "          element.appendChild(docLink);\n",
              "        }\n",
              "      </script>\n",
              "    </div>\n",
              "  </div>\n",
              "  "
            ],
            "text/plain": [
              "                           frame_len_skew  frame_len_kurt  \\\n",
              "frame.time                                                  \n",
              "2011-08-18 10:19:16+02:00        0.616527        0.358632   \n",
              "2011-08-18 10:19:17+02:00        0.719251        0.378198   \n",
              "2011-08-18 10:19:18+02:00        0.720042        0.378358   \n",
              "2011-08-18 10:19:19+02:00        0.716885        0.377719   \n",
              "2011-08-18 10:19:20+02:00        0.747266        0.383957   \n",
              "...                                   ...             ...   \n",
              "2011-08-18 10:50:40+02:00        0.740466        0.382543   \n",
              "2011-08-18 10:50:41+02:00        0.732209        0.380840   \n",
              "2011-08-18 10:50:42+02:00        0.729754        0.380337   \n",
              "2011-08-18 10:50:43+02:00        0.717765        0.377897   \n",
              "2011-08-18 10:50:44+02:00        0.718978        0.378142   \n",
              "\n",
              "                           frame_time_delta_skew  frame_time_delta_kurt  \\\n",
              "frame.time                                                                \n",
              "2011-08-18 10:19:16+02:00               0.449679               0.240652   \n",
              "2011-08-18 10:19:17+02:00               0.516359               0.376563   \n",
              "2011-08-18 10:19:18+02:00               0.516871               0.377622   \n",
              "2011-08-18 10:19:19+02:00               0.514831               0.373398   \n",
              "2011-08-18 10:19:20+02:00               0.534414               0.414111   \n",
              "...                                          ...                    ...   \n",
              "2011-08-18 10:50:40+02:00               0.530040               0.404986   \n",
              "2011-08-18 10:50:41+02:00               0.524721               0.393914   \n",
              "2011-08-18 10:50:42+02:00               0.523138               0.390625   \n",
              "2011-08-18 10:50:43+02:00               0.515399               0.374575   \n",
              "2011-08-18 10:50:44+02:00               0.516183               0.376198   \n",
              "\n",
              "                           tcp_window_size_skew  tcp_window_size_kurt  \n",
              "frame.time                                                             \n",
              "2011-08-18 10:19:16+02:00              0.580146              0.422591  \n",
              "2011-08-18 10:19:17+02:00              0.422557              0.298355  \n",
              "2011-08-18 10:19:18+02:00              0.421359              0.297418  \n",
              "2011-08-18 10:19:19+02:00              0.426140              0.301157  \n",
              "2011-08-18 10:19:20+02:00              0.380341              0.265434  \n",
              "...                                         ...                   ...  \n",
              "2011-08-18 10:50:40+02:00              0.390552              0.273381  \n",
              "2011-08-18 10:50:41+02:00              0.402983              0.283069  \n",
              "2011-08-18 10:50:42+02:00              0.406685              0.285957  \n",
              "2011-08-18 10:50:43+02:00              0.424807              0.300115  \n",
              "2011-08-18 10:50:44+02:00              0.422970              0.298678  \n",
              "\n",
              "[1879 rows x 6 columns]"
            ]
          },
          "execution_count": 32,
          "metadata": {},
          "output_type": "execute_result"
        }
      ],
      "source": [
        "X_pred_train = model.predict(X_train)\n",
        "X_pred_train = X_pred_train.reshape(X_pred_train.shape[0], X_train.shape[2])\n",
        "X_pred_train = pd.DataFrame(X_pred_train, columns=train.columns)\n",
        "X_pred_train.index = train.index.tz_convert('Europe/Berlin')\n",
        "X_pred_train"
      ]
    },
    {
      "cell_type": "code",
      "execution_count": null,
      "metadata": {
        "colab": {
          "base_uri": "https://localhost:8080/",
          "height": 523
        },
        "id": "aSiZuHTJuEZ7",
        "outputId": "c832ed37-c103-48b4-f7d5-0564684c5d1b"
      },
      "outputs": [
        {
          "name": "stderr",
          "output_type": "stream",
          "text": [
            "/usr/local/lib/python3.7/dist-packages/seaborn/distributions.py:2619: FutureWarning: `distplot` is a deprecated function and will be removed in a future version. Please adapt your code to use either `displot` (a figure-level function with similar flexibility) or `histplot` (an axes-level function for histograms).\n",
            "  warnings.warn(msg, FutureWarning)\n"
          ]
        },
        {
          "data": {
            "text/plain": [
              "Text(0, 0.5, 'Density')"
            ]
          },
          "execution_count": 33,
          "metadata": {},
          "output_type": "execute_result"
        },
        {
          "data": {
            "image/png": "[encoded data removed]",
            "text/plain": [
              "<Figure size 800x480 with 1 Axes>"
            ]
          },
          "metadata": {
            "needs_background": "light"
          },
          "output_type": "display_data"
        }
      ],
      "source": [
        "X_pred_train = model.predict(X_train)\n",
        "X_pred_train = X_pred_train.reshape(X_pred_train.shape[0], X_train.shape[2])\n",
        "X_pred_train = pd.DataFrame(X_pred_train, columns=train.columns)\n",
        "X_pred_train.index = train.index\n",
        "\n",
        "scored_train = pd.DataFrame(index=train.index.tz_convert('Europe/Berlin'))\n",
        "Xtrain = X_train.reshape(X_train.shape[0], X_train.shape[2])\n",
        "scored_train['Loss_mae'] = np.mean(np.abs(X_pred_train-Xtrain), axis = 1)\n",
        "plt.figure(figsize=(10,6), dpi=80)\n",
        "#plt.title('Distribuição do Custo de Reconstrução', fontsize=22)\n",
        "sns.distplot(scored_train['Loss_mae'], bins = 50, kde=True, color = 'navy');\n",
        "sns.set(font_scale=1.4)\n",
        "plt.xlim([0.0,.5])\n",
        "plt.xlabel(\"Reconstruction Cost\", fontsize=18, labelpad=8.0)\n",
        "plt.ylabel(\"Density\", fontsize=18, labelpad=8.0)"
      ]
    },
    {
      "cell_type": "code",
      "execution_count": null,
      "metadata": {
        "id": "gjwgErzimHfj"
      },
      "outputs": [],
      "source": [
        "X_test_full = np.concatenate((X_test, X_test_2), axis=0)\n",
        "test_full = pd.concat([test, test_2])"
      ]
    },
    {
      "cell_type": "code",
      "execution_count": null,
      "metadata": {
        "id": "_5mtpprwwNqx"
      },
      "outputs": [],
      "source": [
        "X_pred_test_full = model.predict(X_test_full)\n",
        "X_pred_test_full = X_pred_test_full.reshape(X_pred_test_full.shape[0], X_pred_test_full.shape[2])\n",
        "X_pred_test_full = pd.DataFrame(X_pred_test_full, columns=test_full.columns)\n",
        "X_pred_test_full.index = test_full.index\n",
        "\n",
        "scored_test_full = pd.DataFrame(index=test_full.index)\n",
        "Xtest_full = X_test_full.reshape(X_test_full.shape[0], X_test_full.shape[2])"
      ]
    },
    {
      "cell_type": "code",
      "execution_count": null,
      "metadata": {
        "colab": {
          "base_uri": "https://localhost:8080/",
          "height": 238
        },
        "id": "25O6Flnx3107",
        "outputId": "3fa073a8-0924-4295-c75b-54cf59f4cfef"
      },
      "outputs": [
        {
          "data": {
            "text/html": [
              "\n",
              "  <div id=\"df-520d549f-2fd8-4e7d-a918-8e3fbd649cf4\">\n",
              "    <div class=\"colab-df-container\">\n",
              "      <div>\n",
              "<style scoped>\n",
              "    .dataframe tbody tr th:only-of-type {\n",
              "        vertical-align: middle;\n",
              "    }\n",
              "\n",
              "    .dataframe tbody tr th {\n",
              "        vertical-align: top;\n",
              "    }\n",
              "\n",
              "    .dataframe thead th {\n",
              "        text-align: right;\n",
              "    }\n",
              "</style>\n",
              "<table border=\"1\" class=\"dataframe\">\n",
              "  <thead>\n",
              "    <tr style=\"text-align: right;\">\n",
              "      <th></th>\n",
              "      <th>Loss_mae</th>\n",
              "      <th>Threshold</th>\n",
              "      <th>Anomaly</th>\n",
              "    </tr>\n",
              "    <tr>\n",
              "      <th>frame.time</th>\n",
              "      <th></th>\n",
              "      <th></th>\n",
              "      <th></th>\n",
              "    </tr>\n",
              "  </thead>\n",
              "  <tbody>\n",
              "    <tr>\n",
              "      <th>2011-08-18 11:52:49+02:00</th>\n",
              "      <td>0.195081</td>\n",
              "      <td>0.35</td>\n",
              "      <td>False</td>\n",
              "    </tr>\n",
              "    <tr>\n",
              "      <th>2011-08-18 11:52:50+02:00</th>\n",
              "      <td>0.193532</td>\n",
              "      <td>0.35</td>\n",
              "      <td>False</td>\n",
              "    </tr>\n",
              "    <tr>\n",
              "      <th>2011-08-18 11:52:51+02:00</th>\n",
              "      <td>0.193343</td>\n",
              "      <td>0.35</td>\n",
              "      <td>False</td>\n",
              "    </tr>\n",
              "    <tr>\n",
              "      <th>2011-08-18 11:52:52+02:00</th>\n",
              "      <td>0.193550</td>\n",
              "      <td>0.35</td>\n",
              "      <td>False</td>\n",
              "    </tr>\n",
              "    <tr>\n",
              "      <th>2011-08-18 11:52:53+02:00</th>\n",
              "      <td>0.193628</td>\n",
              "      <td>0.35</td>\n",
              "      <td>False</td>\n",
              "    </tr>\n",
              "  </tbody>\n",
              "</table>\n",
              "</div>\n",
              "      <button class=\"colab-df-convert\" onclick=\"convertToInteractive('df-520d549f-2fd8-4e7d-a918-8e3fbd649cf4')\"\n",
              "              title=\"Convert this dataframe to an interactive table.\"\n",
              "              style=\"display:none;\">\n",
              "        \n",
              "  <svg xmlns=\"http://www.w3.org/2000/svg\" height=\"24px\"viewBox=\"0 0 24 24\"\n",
              "       width=\"24px\">\n",
              "    <path d=\"M0 0h24v24H0V0z\" fill=\"none\"/>\n",
              "    <path d=\"M18.56 5.44l.94 2.06.94-2.06 2.06-.94-2.06-.94-.94-2.06-.94 2.06-2.06.94zm-11 1L8.5 8.5l.94-2.06 2.06-.94-2.06-.94L8.5 2.5l-.94 2.06-2.06.94zm10 10l.94 2.06.94-2.06 2.06-.94-2.06-.94-.94-2.06-.94 2.06-2.06.94z\"/><path d=\"M17.41 7.96l-1.37-1.37c-.4-.4-.92-.59-1.43-.59-.52 0-1.04.2-1.43.59L10.3 9.45l-7.72 7.72c-.78.78-.78 2.05 0 2.83L4 21.41c.39.39.9.59 1.41.59.51 0 1.02-.2 1.41-.59l7.78-7.78 2.81-2.81c.8-.78.8-2.07 0-2.86zM5.41 20L4 18.59l7.72-7.72 1.47 1.35L5.41 20z\"/>\n",
              "  </svg>\n",
              "      </button>\n",
              "      \n",
              "  <style>\n",
              "    .colab-df-container {\n",
              "      display:flex;\n",
              "      flex-wrap:wrap;\n",
              "      gap: 12px;\n",
              "    }\n",
              "\n",
              "    .colab-df-convert {\n",
              "      background-color: #E8F0FE;\n",
              "      border: none;\n",
              "      border-radius: 50%;\n",
              "      cursor: pointer;\n",
              "      display: none;\n",
              "      fill: #1967D2;\n",
              "      height: 32px;\n",
              "      padding: 0 0 0 0;\n",
              "      width: 32px;\n",
              "    }\n",
              "\n",
              "    .colab-df-convert:hover {\n",
              "      background-color: #E2EBFA;\n",
              "      box-shadow: 0px 1px 2px rgba(60, 64, 67, 0.3), 0px 1px 3px 1px rgba(60, 64, 67, 0.15);\n",
              "      fill: #174EA6;\n",
              "    }\n",
              "\n",
              "    [theme=dark] .colab-df-convert {\n",
              "      background-color: #3B4455;\n",
              "      fill: #D2E3FC;\n",
              "    }\n",
              "\n",
              "    [theme=dark] .colab-df-convert:hover {\n",
              "      background-color: #434B5C;\n",
              "      box-shadow: 0px 1px 3px 1px rgba(0, 0, 0, 0.15);\n",
              "      filter: drop-shadow(0px 1px 2px rgba(0, 0, 0, 0.3));\n",
              "      fill: #FFFFFF;\n",
              "    }\n",
              "  </style>\n",
              "\n",
              "      <script>\n",
              "        const buttonEl =\n",
              "          document.querySelector('#df-520d549f-2fd8-4e7d-a918-8e3fbd649cf4 button.colab-df-convert');\n",
              "        buttonEl.style.display =\n",
              "          google.colab.kernel.accessAllowed ? 'block' : 'none';\n",
              "\n",
              "        async function convertToInteractive(key) {\n",
              "          const element = document.querySelector('#df-520d549f-2fd8-4e7d-a918-8e3fbd649cf4');\n",
              "          const dataTable =\n",
              "            await google.colab.kernel.invokeFunction('convertToInteractive',\n",
              "                                                     [key], {});\n",
              "          if (!dataTable) return;\n",
              "\n",
              "          const docLinkHtml = 'Like what you see? Visit the ' +\n",
              "            '<a target=\"_blank\" href=https://colab.research.google.com/notebooks/data_table.ipynb>data table notebook</a>'\n",
              "            + ' to learn more about interactive tables.';\n",
              "          element.innerHTML = '';\n",
              "          dataTable['output_type'] = 'display_data';\n",
              "          await google.colab.output.renderOutput(dataTable, element);\n",
              "          const docLink = document.createElement('div');\n",
              "          docLink.innerHTML = docLinkHtml;\n",
              "          element.appendChild(docLink);\n",
              "        }\n",
              "      </script>\n",
              "    </div>\n",
              "  </div>\n",
              "  "
            ],
            "text/plain": [
              "                           Loss_mae  Threshold  Anomaly\n",
              "frame.time                                             \n",
              "2011-08-18 11:52:49+02:00  0.195081       0.35    False\n",
              "2011-08-18 11:52:50+02:00  0.193532       0.35    False\n",
              "2011-08-18 11:52:51+02:00  0.193343       0.35    False\n",
              "2011-08-18 11:52:52+02:00  0.193550       0.35    False\n",
              "2011-08-18 11:52:53+02:00  0.193628       0.35    False"
            ]
          },
          "execution_count": 64,
          "metadata": {},
          "output_type": "execute_result"
        }
      ],
      "source": [
        "scored_test_full['Loss_mae'] = np.mean(np.abs(X_pred_test_full-Xtest_full), axis = 1)\n",
        "scored_test_full['Threshold'] = 0.35\n",
        "scored_test_full['Anomaly'] = scored_test_full['Loss_mae'] > scored_test_full['Threshold']\n",
        "scored_test_full.tail()"
      ]
    },
    {
      "cell_type": "code",
      "execution_count": null,
      "metadata": {
        "id": "9eGuOTdYmHxF"
      },
      "outputs": [],
      "source": [
        "data_label = pd.DataFrame()\n",
        "data_label['label'] = df['Class']\n",
        "data_label['label'] = data_label['label'].astype(int)\n",
        "data_label['label'].value_counts()\n",
        "data_label = data_label[train_chunk:]"
      ]
    },
    {
      "cell_type": "code",
      "execution_count": null,
      "metadata": {
        "id": "EwLxNLiZ49_g"
      },
      "outputs": [],
      "source": [
        "concatenated = scored_test_full\n",
        "concatenated['label'] = data_label['label']"
      ]
    },
    {
      "cell_type": "code",
      "execution_count": null,
      "metadata": {
        "id": "QD_NnMVCgzWF"
      },
      "outputs": [],
      "source": [
        "mae = pd.DataFrame()\n",
        "mae['mae_anomaly'] = np.where(concatenated['label'] == 1, concatenated['Loss_mae'], 0)\n",
        "mae['mae_anomaly']"
      ]
    },
    {
      "cell_type": "code",
      "execution_count": null,
      "metadata": {
        "id": "4Gxl5At41fxZ"
      },
      "outputs": [],
      "source": [
        "import matplotlib.pyplot as plt\n",
        "\n",
        "SMALL_SIZE = 20\n",
        "MEDIUM_SIZE = 15\n",
        "BIGGER_SIZE = 15\n",
        "\n",
        "plt.rc('font', size=SMALL_SIZE)          # controls default text sizes\n",
        "plt.rc('axes', titlesize=SMALL_SIZE)     # fontsize of the axes title\n",
        "plt.rc('axes', labelsize=MEDIUM_SIZE)    # fontsize of the x and y labels\n",
        "plt.rc('xtick', labelsize=SMALL_SIZE)    # fontsize of the tick labels\n",
        "plt.rc('ytick', labelsize=SMALL_SIZE)    # fontsize of the tick labels\n",
        "plt.rc('legend', fontsize=MEDIUM_SIZE)    # legend fontsize\n",
        "plt.rc('figure', titlesize=BIGGER_SIZE)  # fontsize of the figure title\n",
        "\n",
        "plt.rcParams[\"date.autoformatter.minute\"] = \"%H:%M\""
      ]
    },
    {
      "cell_type": "code",
      "execution_count": null,
      "metadata": {
        "colab": {
          "base_uri": "https://localhost:8080/",
          "height": 413
        },
        "id": "TH-oa5ga5Dof",
        "outputId": "ca016d25-333e-4aa4-e9ae-e30daeb093f3",
        "scrolled": true
      },
      "outputs": [
        {
          "data": {
            "image/png": "[encoded data removed]",
            "text/plain": [
              "<Figure size 720x432 with 1 Axes>"
            ]
          },
          "metadata": {},
          "output_type": "display_data"
        }
      ],
      "source": [
        "import matplotlib.pyplot as plt\n",
        "\n",
        "fig, ax = plt.subplots(figsize=(10, 6))\n",
        "\n",
        "for label in (ax.get_xticklabels() + ax.get_yticklabels()):\n",
        "\tlabel.set_fontsize(17)\n",
        "\n",
        "ax.plot(concatenated['Loss_mae'], label='Cost (MAE)', color='midnightblue')\n",
        "ax.plot(concatenated['Threshold'], label='Threshold', color = 'red', linestyle='dashed')\n",
        "\n",
        "plt.axvspan(pd.to_datetime('2011-08-18 11:03:05').tz_localize('Europe/Berlin'), pd.to_datetime('2011-08-18 11:07:15').tz_localize('Europe/Berlin'), color='yellow', alpha=0.5, label='Infection')\n",
        "plt.xlabel(\"Time\", fontsize=18, labelpad=10.0)\n",
        "plt.ylabel(\"Reconstruction Cost\", fontsize=18, labelpad=10.0)\n",
        "leg = ax.legend(prop={\"size\":16}, loc='lower left')"
      ]
    },
    {
      "cell_type": "code",
      "execution_count": null,
      "metadata": {
        "id": "5wezKbb76CHD"
      },
      "outputs": [],
      "source": [
        "ews_scored = concatenated['2011-08-18 11:03:05':]"
      ]
    },
    {
      "cell_type": "code",
      "execution_count": null,
      "metadata": {
        "colab": {
          "base_uri": "https://localhost:8080/",
          "height": 143
        },
        "id": "JEe0cKRPf4FT",
        "outputId": "770cc93a-4384-489e-926f-b94c8f94f30c"
      },
      "outputs": [
        {
          "data": {
            "text/html": [
              "\n",
              "  <div id=\"df-a1a968a2-577a-4d90-8fe9-2c11fee849e7\">\n",
              "    <div class=\"colab-df-container\">\n",
              "      <div>\n",
              "<style scoped>\n",
              "    .dataframe tbody tr th:only-of-type {\n",
              "        vertical-align: middle;\n",
              "    }\n",
              "\n",
              "    .dataframe tbody tr th {\n",
              "        vertical-align: top;\n",
              "    }\n",
              "\n",
              "    .dataframe thead th {\n",
              "        text-align: right;\n",
              "    }\n",
              "</style>\n",
              "<table border=\"1\" class=\"dataframe\">\n",
              "  <thead>\n",
              "    <tr style=\"text-align: right;\">\n",
              "      <th></th>\n",
              "      <th>Loss_mae</th>\n",
              "      <th>Threshold</th>\n",
              "      <th>Anomaly</th>\n",
              "      <th>label</th>\n",
              "    </tr>\n",
              "    <tr>\n",
              "      <th>frame.time</th>\n",
              "      <th></th>\n",
              "      <th></th>\n",
              "      <th></th>\n",
              "      <th></th>\n",
              "    </tr>\n",
              "  </thead>\n",
              "  <tbody>\n",
              "    <tr>\n",
              "      <th>2011-08-18 11:23:03+02:00</th>\n",
              "      <td>0.399609</td>\n",
              "      <td>0.35</td>\n",
              "      <td>True</td>\n",
              "      <td>1</td>\n",
              "    </tr>\n",
              "    <tr>\n",
              "      <th>2011-08-18 11:24:07+02:00</th>\n",
              "      <td>0.350196</td>\n",
              "      <td>0.35</td>\n",
              "      <td>True</td>\n",
              "      <td>0</td>\n",
              "    </tr>\n",
              "  </tbody>\n",
              "</table>\n",
              "</div>\n",
              "      <button class=\"colab-df-convert\" onclick=\"convertToInteractive('df-a1a968a2-577a-4d90-8fe9-2c11fee849e7')\"\n",
              "              title=\"Convert this dataframe to an interactive table.\"\n",
              "              style=\"display:none;\">\n",
              "        \n",
              "  <svg xmlns=\"http://www.w3.org/2000/svg\" height=\"24px\"viewBox=\"0 0 24 24\"\n",
              "       width=\"24px\">\n",
              "    <path d=\"M0 0h24v24H0V0z\" fill=\"none\"/>\n",
              "    <path d=\"M18.56 5.44l.94 2.06.94-2.06 2.06-.94-2.06-.94-.94-2.06-.94 2.06-2.06.94zm-11 1L8.5 8.5l.94-2.06 2.06-.94-2.06-.94L8.5 2.5l-.94 2.06-2.06.94zm10 10l.94 2.06.94-2.06 2.06-.94-2.06-.94-.94-2.06-.94 2.06-2.06.94z\"/><path d=\"M17.41 7.96l-1.37-1.37c-.4-.4-.92-.59-1.43-.59-.52 0-1.04.2-1.43.59L10.3 9.45l-7.72 7.72c-.78.78-.78 2.05 0 2.83L4 21.41c.39.39.9.59 1.41.59.51 0 1.02-.2 1.41-.59l7.78-7.78 2.81-2.81c.8-.78.8-2.07 0-2.86zM5.41 20L4 18.59l7.72-7.72 1.47 1.35L5.41 20z\"/>\n",
              "  </svg>\n",
              "      </button>\n",
              "      \n",
              "  <style>\n",
              "    .colab-df-container {\n",
              "      display:flex;\n",
              "      flex-wrap:wrap;\n",
              "      gap: 12px;\n",
              "    }\n",
              "\n",
              "    .colab-df-convert {\n",
              "      background-color: #E8F0FE;\n",
              "      border: none;\n",
              "      border-radius: 50%;\n",
              "      cursor: pointer;\n",
              "      display: none;\n",
              "      fill: #1967D2;\n",
              "      height: 32px;\n",
              "      padding: 0 0 0 0;\n",
              "      width: 32px;\n",
              "    }\n",
              "\n",
              "    .colab-df-convert:hover {\n",
              "      background-color: #E2EBFA;\n",
              "      box-shadow: 0px 1px 2px rgba(60, 64, 67, 0.3), 0px 1px 3px 1px rgba(60, 64, 67, 0.15);\n",
              "      fill: #174EA6;\n",
              "    }\n",
              "\n",
              "    [theme=dark] .colab-df-convert {\n",
              "      background-color: #3B4455;\n",
              "      fill: #D2E3FC;\n",
              "    }\n",
              "\n",
              "    [theme=dark] .colab-df-convert:hover {\n",
              "      background-color: #434B5C;\n",
              "      box-shadow: 0px 1px 3px 1px rgba(0, 0, 0, 0.15);\n",
              "      filter: drop-shadow(0px 1px 2px rgba(0, 0, 0, 0.3));\n",
              "      fill: #FFFFFF;\n",
              "    }\n",
              "  </style>\n",
              "\n",
              "      <script>\n",
              "        const buttonEl =\n",
              "          document.querySelector('#df-a1a968a2-577a-4d90-8fe9-2c11fee849e7 button.colab-df-convert');\n",
              "        buttonEl.style.display =\n",
              "          google.colab.kernel.accessAllowed ? 'block' : 'none';\n",
              "\n",
              "        async function convertToInteractive(key) {\n",
              "          const element = document.querySelector('#df-a1a968a2-577a-4d90-8fe9-2c11fee849e7');\n",
              "          const dataTable =\n",
              "            await google.colab.kernel.invokeFunction('convertToInteractive',\n",
              "                                                     [key], {});\n",
              "          if (!dataTable) return;\n",
              "\n",
              "          const docLinkHtml = 'Like what you see? Visit the ' +\n",
              "            '<a target=\"_blank\" href=https://colab.research.google.com/notebooks/data_table.ipynb>data table notebook</a>'\n",
              "            + ' to learn more about interactive tables.';\n",
              "          element.innerHTML = '';\n",
              "          dataTable['output_type'] = 'display_data';\n",
              "          await google.colab.output.renderOutput(dataTable, element);\n",
              "          const docLink = document.createElement('div');\n",
              "          docLink.innerHTML = docLinkHtml;\n",
              "          element.appendChild(docLink);\n",
              "        }\n",
              "      </script>\n",
              "    </div>\n",
              "  </div>\n",
              "  "
            ],
            "text/plain": [
              "                           Loss_mae  Threshold  Anomaly  label\n",
              "frame.time                                                    \n",
              "2011-08-18 11:23:03+02:00  0.399609       0.35     True      1\n",
              "2011-08-18 11:24:07+02:00  0.350196       0.35     True      0"
            ]
          },
          "execution_count": 73,
          "metadata": {},
          "output_type": "execute_result"
        }
      ],
      "source": [
        "concatenated[concatenated['Anomaly']==True]"
      ]
    },
    {
      "cell_type": "code",
      "execution_count": null,
      "metadata": {
        "colab": {
          "base_uri": "https://localhost:8080/",
          "height": 313
        },
        "id": "f7_tlFCo6QzE",
        "outputId": "15af55bf-0b3d-4b82-9adf-b0e7128263fd"
      },
      "outputs": [
        {
          "data": {
            "text/plain": [
              "[Text(21.499999999999993, 0.5, 'Valor Previsto'), Text(0.5, 3.5, 'Valor Real')]"
            ]
          },
          "execution_count": 74,
          "metadata": {},
          "output_type": "execute_result"
        },
        {
          "data": {
            "image/png": "[encoded data removed]",
            "text/plain": [
              "<Figure size 432x288 with 2 Axes>"
            ]
          },
          "metadata": {},
          "output_type": "display_data"
        }
      ],
      "source": [
        "import seaborn as sns\n",
        "from sklearn.metrics import confusion_matrix\n",
        "\n",
        "xticklabels=['Normal', 'Anomalia'] \n",
        "yticklabels=['Normal', 'Anomalia']\n",
        "cm = confusion_matrix(ews_scored['label'], ews_scored['Anomaly'])\n",
        "s = sns.heatmap(cm, annot=True, fmt='d', xticklabels=xticklabels, yticklabels=yticklabels)\n",
        "s.set(xlabel='Valor Real', ylabel='Valor Previsto')"
      ]
    },
    {
      "cell_type": "code",
      "execution_count": null,
      "metadata": {
        "colab": {
          "base_uri": "https://localhost:8080/"
        },
        "id": "Ck6WMulb6URn",
        "outputId": "e7ab6771-3cb6-4166-bed0-8957a12cca10"
      },
      "outputs": [
        {
          "name": "stdout",
          "output_type": "stream",
          "text": [
            "F1 Score = 0.01\n",
            "Accuracy = 0.91\n",
            "Precision = 0.5\n",
            "Recall = 0.004\n"
          ]
        }
      ],
      "source": [
        "tn, fp, fn, tp = confusion_matrix(ews_scored['label'], ews_scored['Anomaly']).ravel()\n",
        "\n",
        "accuracy = (tn + tp) / (tn + fp + fn + tp)\n",
        "precision = tp / (tp + fp)\n",
        "recall = tp / (tp + fn)\n",
        "f1_score = 2 * (precision * recall) / (precision + recall)\n",
        "\n",
        "print(f'F1 Score = {round(f1_score, 2)}')\n",
        "print(f'Accuracy = {round(accuracy, 2)}')\n",
        "print(f'Precision = {round(precision, 2)}')\n",
        "print(f'Recall = {round(recall, 3)}')"
      ]
    }
  ],
  "metadata": {
    "colab": {
      "provenance": []
    },
    "kernelspec": {
      "display_name": "Python 3",
      "language": "python",
      "name": "python3"
    },
    "language_info": {
      "codemirror_mode": {
        "name": "ipython",
        "version": 3
      },
      "file_extension": ".py",
      "mimetype": "text/x-python",
      "name": "python",
      "nbconvert_exporter": "python",
      "pygments_lexer": "ipython3",
      "version": "3.7.6"
    }
  },
  "nbformat": 4,
  "nbformat_minor": 0
}
